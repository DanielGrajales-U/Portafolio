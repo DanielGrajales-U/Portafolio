{
  "nbformat": 4,
  "nbformat_minor": 0,
  "metadata": {
    "colab": {
      "name": "Untitled0.ipynb",
      "provenance": [],
      "collapsed_sections": [],
      "authorship_tag": "ABX9TyOULPPH8he3LGrBEnmRLku+",
      "include_colab_link": true
    },
    "kernelspec": {
      "name": "python3",
      "display_name": "Python 3"
    },
    "language_info": {
      "name": "python"
    }
  },
  "cells": [
    {
      "cell_type": "markdown",
      "metadata": {
        "id": "view-in-github",
        "colab_type": "text"
      },
      "source": [
        "<a href=\"https://colab.research.google.com/github/DanielGrajales-U/Portafolio/blob/main/Untitled0.ipynb\" target=\"_parent\"><img src=\"https://colab.research.google.com/assets/colab-badge.svg\" alt=\"Open In Colab\"/></a>"
      ]
    },
    {
      "cell_type": "code",
      "metadata": {
        "id": "KEaxMx7vGJ2b"
      },
      "source": [
        ""
      ],
      "execution_count": null,
      "outputs": []
    },
    {
      "cell_type": "code",
      "metadata": {
        "colab": {
          "base_uri": "https://localhost:8080/"
        },
        "id": "cgaY19nMGLDM",
        "outputId": "6dfddba4-cbcf-4c59-938e-7a88052dc8c6"
      },
      "source": [
        "#\n",
        "\n",
        "\n",
        "# Ejercicio: crear un conjunto y comprobar si\n",
        "# sacando dos conjuntos con elementos del conjunto madre y sumandolos da el mismo resultado\n",
        "\n",
        "\n",
        "# Variable para pedir el tamaño del conjunto\n",
        "n = int(input(\"Ingrese el tamaño que desea su conjunto: \"))\n",
        "# Lista donde se alamacena el conjunto Total\n",
        "listaNum = []\n",
        "\n",
        "# Bucle para añadir elementos a la lista\n",
        "for i in range(n + 1):\n",
        "    listaNum.append(i)\n",
        "\n",
        "print(listaNum)\n",
        "\n",
        "# funcion para comprobar si se cumple lo pedido\n",
        "\n",
        "\n",
        "def sumar(lista):\n",
        "    if lista == []:\n",
        "        suma = 0\n",
        "    else:\n",
        "        suma = lista[0] + sumar(lista[1:])\n",
        "\n",
        "    return suma\n",
        "\n",
        "\n",
        "print(sumar(listaNum))\n",
        "\n"
      ],
      "execution_count": 6,
      "outputs": [
        {
          "output_type": "stream",
          "name": "stdout",
          "text": [
            "Ingrese el tamaño que desea su conjunto: 10\n",
            "[0, 1, 2, 3, 4, 5, 6, 7, 8, 9, 10]\n",
            "55\n"
          ]
        }
      ]
    }
  ]
}